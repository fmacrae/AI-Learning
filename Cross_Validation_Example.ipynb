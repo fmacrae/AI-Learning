{
  "nbformat": 4,
  "nbformat_minor": 0,
  "metadata": {
    "colab": {
      "name": "Cross Validation Example.ipynb",
      "version": "0.3.2",
      "provenance": [],
      "collapsed_sections": [],
      "include_colab_link": true
    },
    "kernelspec": {
      "name": "python2",
      "display_name": "Python 2"
    }
  },
  "cells": [
    {
      "cell_type": "markdown",
      "metadata": {
        "id": "view-in-github",
        "colab_type": "text"
      },
      "source": [
        "[View in Colaboratory](https://colab.research.google.com/github/fmacrae/AI-Learning/blob/master/Cross_Validation_Example.ipynb)"
      ]
    },
    {
      "metadata": {
        "id": "zz16qKy7DCYr",
        "colab_type": "text"
      },
      "cell_type": "markdown",
      "source": [
        "# Cross Validation\n",
        "Process of deciding how to split your data into Training, Validation and Test sets.\n",
        "Common strategy is called K Fold Cross Validation.  Where K is an arbitrary number of equal subdivisions (bins) of the full data set.  So 10 Fold Cross Validation would break the data into 10 equal sized groups.\n",
        "\n",
        "Example sourced from https://towardsdatascience.com/train-test-split-and-cross-validation-in-python-80b61beca4b6 \n",
        "\n"
      ]
    },
    {
      "metadata": {
        "id": "oy696nqJHCwG",
        "colab_type": "text"
      },
      "cell_type": "markdown",
      "source": [
        "\n",
        "# Import our libraries\n",
        "\n",
        "1.   Pandas — to load the data file as a Pandas data frame and analyze the data\n",
        "2.   From Sklearn, I’ve imported the datasets module, so I can load a sample dataset, and the linear_model, so I can run a linear regression\n",
        "3.   From Sklearn, sub-library model_selection, I’ve imported the train_test_split so I can, well, split to training and test sets\n",
        "4.   From Matplotlib I’ve imported pyplot in order to plot graphs of the data\n",
        "\n",
        "\n",
        "\n"
      ]
    },
    {
      "metadata": {
        "id": "MAnHz4CvILTe",
        "colab_type": "text"
      },
      "cell_type": "markdown",
      "source": [
        "# Load the Diabetes Housing dataset"
      ]
    },
    {
      "metadata": {
        "id": "nGjM224PC8qJ",
        "colab_type": "code",
        "colab": {}
      },
      "cell_type": "code",
      "source": [
        "import pandas as pd\n",
        "from sklearn import datasets, linear_model\n",
        "from sklearn.model_selection import train_test_split\n",
        "from matplotlib import pyplot as plt"
      ],
      "execution_count": 0,
      "outputs": []
    },
    {
      "metadata": {
        "id": "xj6oU8QxIRpM",
        "colab_type": "code",
        "colab": {}
      },
      "cell_type": "code",
      "source": [
        "# Load the Diabetes Housing dataset\n",
        "columns = \"age sex bmi map tc ldl hdl tch ltg glu\".split() # Declare the columns names\n",
        "diabetes = datasets.load_diabetes() # Call the diabetes dataset from sklearn\n",
        "df = pd.DataFrame(diabetes.data, columns=columns) # load the dataset as a pandas data frame\n",
        "y = diabetes.target # define the target variable (dependent variable) as y"
      ],
      "execution_count": 0,
      "outputs": []
    },
    {
      "metadata": {
        "id": "pPTavJlAKyPb",
        "colab_type": "text"
      },
      "cell_type": "markdown",
      "source": [
        "# Create train and Test Variables\n",
        "This is the normal way of doing it - so no cross validation here"
      ]
    },
    {
      "metadata": {
        "id": "jnqiVdR-K8h3",
        "colab_type": "code",
        "colab": {
          "base_uri": "https://localhost:8080/",
          "height": 51
        },
        "outputId": "798d23e8-61be-49dc-b829-b5aae6972e26"
      },
      "cell_type": "code",
      "source": [
        "# create training and testing vars\n",
        "X_train, X_test, y_train, y_test = train_test_split(df, y, test_size=0.2)\n",
        "print X_train.shape, y_train.shape\n",
        "print X_test.shape, y_test.shape\n"
      ],
      "execution_count": 3,
      "outputs": [
        {
          "output_type": "stream",
          "text": [
            "(353, 10) (353,)\n",
            "(89, 10) (89,)\n"
          ],
          "name": "stdout"
        }
      ]
    },
    {
      "metadata": {
        "id": "LGOi9g3EL2qV",
        "colab_type": "text"
      },
      "cell_type": "markdown",
      "source": [
        "# Now Fit the Model"
      ]
    },
    {
      "metadata": {
        "id": "r7t-wdEbL-YW",
        "colab_type": "code",
        "colab": {}
      },
      "cell_type": "code",
      "source": [
        "# fit a model\n",
        "lm = linear_model.LinearRegression()\n",
        "model = lm.fit(X_train, y_train)\n",
        "predictions = lm.predict(X_test)"
      ],
      "execution_count": 0,
      "outputs": []
    },
    {
      "metadata": {
        "id": "_eJj0SvWMKrB",
        "colab_type": "text"
      },
      "cell_type": "markdown",
      "source": [
        "Check what it predicts <BR>\n",
        "[0:5] just means show the 1st 5 values"
      ]
    },
    {
      "metadata": {
        "id": "soceKkvKMOCr",
        "colab_type": "code",
        "colab": {
          "base_uri": "https://localhost:8080/",
          "height": 51
        },
        "outputId": "506c9c7f-38c8-46f5-df81-7953de2d350c"
      },
      "cell_type": "code",
      "source": [
        "predictions[0:5]"
      ],
      "execution_count": 5,
      "outputs": [
        {
          "output_type": "execute_result",
          "data": {
            "text/plain": [
              "array([208.24745176, 119.03261395,  92.15619897, 175.84934807,\n",
              "        81.16595193])"
            ]
          },
          "metadata": {
            "tags": []
          },
          "execution_count": 5
        }
      ]
    },
    {
      "metadata": {
        "id": "8vXGNWhzMmdV",
        "colab_type": "text"
      },
      "cell_type": "markdown",
      "source": [
        "# Plot the data"
      ]
    },
    {
      "metadata": {
        "id": "e8Iag__jMuJ3",
        "colab_type": "code",
        "colab": {
          "base_uri": "https://localhost:8080/",
          "height": 378
        },
        "outputId": "e8cbf7cd-c2c0-4201-fdc6-63bc36d90f54"
      },
      "cell_type": "code",
      "source": [
        "## The line / model\n",
        "plt.scatter(y_test, predictions)\n",
        "plt.xlabel(\"True Values\")\n",
        "plt.ylabel(\"Predictions\")"
      ],
      "execution_count": 6,
      "outputs": [
        {
          "output_type": "execute_result",
          "data": {
            "text/plain": [
              "Text(0,0.5,u'Predictions')"
            ]
          },
          "metadata": {
            "tags": []
          },
          "execution_count": 6
        },
        {
          "output_type": "display_data",
          "data": {
            "image/png": "[encoded data removed]",
            "text/plain": [
              "<matplotlib.figure.Figure at 0x7fc4bd30f910>"
            ]
          },
          "metadata": {
            "tags": []
          }
        }
      ]
    },
    {
      "metadata": {
        "id": "gEPqAsA-NABz",
        "colab_type": "text"
      },
      "cell_type": "markdown",
      "source": [
        "# Check accuracy"
      ]
    },
    {
      "metadata": {
        "id": "RhbynFuaNH4Y",
        "colab_type": "code",
        "colab": {
          "base_uri": "https://localhost:8080/",
          "height": 34
        },
        "outputId": "3bae31b9-6d7a-4813-cef4-a438d5013990"
      },
      "cell_type": "code",
      "source": [
        "print \"Score:\", model.score(X_test, y_test)"
      ],
      "execution_count": 7,
      "outputs": [
        {
          "output_type": "stream",
          "text": [
            "Score: 0.4076972667661495\n"
          ],
          "name": "stdout"
        }
      ]
    },
    {
      "metadata": {
        "id": "3r05DRBwQLPv",
        "colab_type": "text"
      },
      "cell_type": "markdown",
      "source": [
        "# Now for K Fold Cross Validation"
      ]
    },
    {
      "metadata": {
        "id": "tFx59pV-QPXV",
        "colab_type": "code",
        "colab": {
          "base_uri": "https://localhost:8080/",
          "height": 34
        },
        "outputId": "938bbc88-8390-4534-b5c8-36cf95ccc2a9"
      },
      "cell_type": "code",
      "source": [
        "import numpy as np\n",
        "from sklearn.model_selection import KFold # import KFold\n",
        "X2 = np.array([[1, 2], [3, 4], [1, 2], [3, 4]]) # create an array\n",
        "y2 = np.array([1, 2, 3, 4]) # Create another array\n",
        "kf = KFold(n_splits=2) # Define the split - into 2 folds \n",
        "kf.get_n_splits(X2) # returns the number of splitting iterations in the cross-validator\n",
        "print(kf) \n"
      ],
      "execution_count": 8,
      "outputs": [
        {
          "output_type": "stream",
          "text": [
            "KFold(n_splits=2, random_state=None, shuffle=False)\n"
          ],
          "name": "stdout"
        }
      ]
    },
    {
      "metadata": {
        "id": "e-m75BbUR07e",
        "colab_type": "text"
      },
      "cell_type": "markdown",
      "source": [
        "Check the data"
      ]
    },
    {
      "metadata": {
        "id": "xjfN4_TjR3xs",
        "colab_type": "code",
        "colab": {
          "base_uri": "https://localhost:8080/",
          "height": 51
        },
        "outputId": "36a86769-4eb8-4b90-83ee-1559689b96a9"
      },
      "cell_type": "code",
      "source": [
        "for train_index, test_index in kf.split(X2):\n",
        " print(\"TRAIN:\", train_index, \"TEST:\", test_index)\n",
        " X_train, X_test = X2[train_index], X2[test_index]\n",
        " y_train, y_test = y2[train_index], y2[test_index]\n"
      ],
      "execution_count": 11,
      "outputs": [
        {
          "output_type": "stream",
          "text": [
            "('TRAIN:', array([2, 3]), 'TEST:', array([0, 1]))\n",
            "('TRAIN:', array([0, 1]), 'TEST:', array([2, 3]))\n"
          ],
          "name": "stdout"
        }
      ]
    },
    {
      "metadata": {
        "id": "icrcsZAqTvVg",
        "colab_type": "text"
      },
      "cell_type": "markdown",
      "source": [
        "# Leave One Out Cross Validation (LOOCV)"
      ]
    },
    {
      "metadata": {
        "id": "xOzYqq-YytV7",
        "colab_type": "text"
      },
      "cell_type": "markdown",
      "source": [
        "Leave this one out entirely.  Its only good for small datasets."
      ]
    },
    {
      "metadata": {
        "id": "-2uZbYFsy7hJ",
        "colab_type": "text"
      },
      "cell_type": "markdown",
      "source": [
        "# Cross validation on the bigger diabetes dataset"
      ]
    },
    {
      "metadata": {
        "id": "EAp2R0LWzGoD",
        "colab_type": "code",
        "colab": {
          "base_uri": "https://localhost:8080/",
          "height": 71
        },
        "outputId": "5db5daff-2202-41b8-9d8e-7dc082d499f4"
      },
      "cell_type": "code",
      "source": [
        "# Necessary imports: \n",
        "from sklearn.cross_validation import cross_val_score, cross_val_predict\n",
        "from sklearn import metrics"
      ],
      "execution_count": 12,
      "outputs": [
        {
          "output_type": "stream",
          "text": [
            "/usr/local/lib/python2.7/dist-packages/sklearn/cross_validation.py:41: DeprecationWarning: This module was deprecated in version 0.18 in favor of the model_selection module into which all the refactored classes and functions are moved. Also note that the interface of the new CV iterators are different from that of this module. This module will be removed in 0.20.\n",
            "  \"This module will be removed in 0.20.\", DeprecationWarning)\n"
          ],
          "name": "stderr"
        }
      ]
    },
    {
      "metadata": {
        "id": "c6hCgL0-0KU4",
        "colab_type": "text"
      },
      "cell_type": "markdown",
      "source": [
        "Try rescoring after cross validation"
      ]
    },
    {
      "metadata": {
        "id": "gdSuoL_-0VKv",
        "colab_type": "code",
        "colab": {
          "base_uri": "https://localhost:8080/",
          "height": 34
        },
        "outputId": "798f38a4-2ed0-40ac-910d-25380f192f86"
      },
      "cell_type": "code",
      "source": [
        "# Perform 6-fold cross validation\n",
        "#df is the pada datafile we loaded\n",
        "scores = cross_val_score(model, df, y, cv=6)\n",
        "print \"Cross-validated scores:\", scores"
      ],
      "execution_count": 13,
      "outputs": [
        {
          "output_type": "stream",
          "text": [
            "Cross-validated scores: [0.4554861  0.46138572 0.40094084 0.55220736 0.43942775 0.56923406]\n"
          ],
          "name": "stdout"
        }
      ]
    },
    {
      "metadata": {
        "id": "cL0kwHxJ3v2y",
        "colab_type": "text"
      },
      "cell_type": "markdown",
      "source": [
        "Plot the new data"
      ]
    },
    {
      "metadata": {
        "id": "0b-x6GQP3zLl",
        "colab_type": "code",
        "colab": {
          "base_uri": "https://localhost:8080/",
          "height": 381
        },
        "outputId": "ee7be8fe-c29c-403a-e54c-c73a0ea65e57"
      },
      "cell_type": "code",
      "source": [
        "%%time\n",
        "# Make cross validated predictions\n",
        "predictions = cross_val_predict(model, df, y, cv=60)\n",
        "plt.scatter(y, predictions)"
      ],
      "execution_count": 18,
      "outputs": [
        {
          "output_type": "stream",
          "text": [
            "CPU times: user 122 ms, sys: 3 ms, total: 125 ms\n",
            "Wall time: 126 ms\n"
          ],
          "name": "stdout"
        },
        {
          "output_type": "display_data",
          "data": {
            "image/png": "[encoded data removed]",
            "text/plain": [
              "<matplotlib.figure.Figure at 0x7fc4bafcc290>"
            ]
          },
          "metadata": {
            "tags": []
          }
        }
      ]
    },
    {
      "metadata": {
        "id": "tPz_EA2Q4EW0",
        "colab_type": "text"
      },
      "cell_type": "markdown",
      "source": [
        "You can see it’s very different from the original plot from earlier. It is six times as many points as the original plot because I used cv=6.\n",
        "\n",
        "Finally, let’s check the R² score of the model (R² is a “number that indicates the proportion of the variance in the dependent variable that is predictable from the independent variable(s)”. Basically, how accurate is our model):"
      ]
    },
    {
      "metadata": {
        "id": "owe_ibXh4Gjc",
        "colab_type": "code",
        "colab": {
          "base_uri": "https://localhost:8080/",
          "height": 34
        },
        "outputId": "5890d7dc-801b-44d7-cc77-2b06fe8a570f"
      },
      "cell_type": "code",
      "source": [
        "accuracy = metrics.r2_score(y, predictions)\n",
        "print \"Cross-Predicted Accuracy:\", accuracy"
      ],
      "execution_count": 19,
      "outputs": [
        {
          "output_type": "stream",
          "text": [
            "Cross-Predicted Accuracy: 0.4933809590742523\n"
          ],
          "name": "stdout"
        }
      ]
    }
  ]
}